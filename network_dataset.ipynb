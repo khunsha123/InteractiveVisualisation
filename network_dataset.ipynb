{
  "cells": [
    {
      "cell_type": "markdown",
      "source": [
        "# **Visualization of Network dataset using OpenTSNE**"
      ],
      "metadata": {
        "id": "Hq_MgXAOaz1g"
      }
    },
    {
      "cell_type": "markdown",
      "source": [
        "### OpenTSNE is a modular Python implementation of t-Distributed Stochastic Neighbour Embedding (t-SNE), a popular dimensionality-reduction algorithm for visualising high-dimensional data sets. openTSNE incorporates the latest improvements to the t-SNE algorithm, including the ability to add new data points to existing embeddings ."
      ],
      "metadata": {
        "id": "z0z2mg6KbF2h"
      }
    },
    {
      "cell_type": "markdown",
      "source": [
        "### Installing necessary Libraries"
      ],
      "metadata": {
        "id": "z0LXuoA7bKeP"
      }
    },
    {
      "cell_type": "code",
      "source": [
        "!pip install openTSNE\n",
        "!pip install ipywidgets\n",
        "!jupyter nbextension enable --py widgetsnbextension"
      ],
      "metadata": {
        "id": "kxRphdvMAD9S"
      },
      "execution_count": null,
      "outputs": []
    },
    {
      "cell_type": "markdown",
      "source": [
        "### Importing necessary Libraries"
      ],
      "metadata": {
        "id": "BmpapszabP9m"
      }
    },
    {
      "cell_type": "code",
      "source": [
        "import numpy as np\n",
        "import pandas as pd\n",
        "import matplotlib.pyplot as plt\n",
        "\n",
        "from sklearn.preprocessing import StandardScaler\n",
        "from sklearn.cluster import KMeans\n",
        "from openTSNE import TSNEEmbedding\n",
        "from openTSNE import affinity\n",
        "from openTSNE import initialization\n",
        "\n",
        "from ipywidgets import interact, interactive, fixed, interact_manual\n",
        "import ipywidgets as widgets\n",
        "\n",
        "scaler = StandardScaler()\n",
        "km = KMeans(n_clusters=10, init='random', n_init=10, max_iter=10000, tol=1e-04, random_state=0)"
      ],
      "metadata": {
        "id": "7y4GjeqY_MiE"
      },
      "execution_count": null,
      "outputs": []
    },
    {
      "cell_type": "markdown",
      "source": [
        "## **Exploring and preprocessing the Time Series dataset**"
      ],
      "metadata": {
        "id": "xUgL-ffKbX9t"
      }
    },
    {
      "cell_type": "code",
      "execution_count": null,
      "metadata": {
        "colab": {
          "base_uri": "https://localhost:8080/"
        },
        "id": "jh02WQfKNXcU",
        "outputId": "81dd0e6a-4f40-4c4e-9e96-6f7bf17b05f6"
      },
      "outputs": [
        {
          "output_type": "execute_result",
          "data": {
            "text/plain": [
              "(20000, 64)"
            ]
          },
          "metadata": {},
          "execution_count": 15
        }
      ],
      "source": [
        "df=pd.read_parquet('AGG_GI_NE_NAME_5_MIN-DEST_NE_NAME-2022-10-04_00_00_00_2022-10-04_01_00_00.parquet')\n",
        "df=df.sample(20000,replace=True)\n",
        "df['min'] = df['ts'].dt.minute\n",
        "df.shape"
      ]
    },
    {
      "cell_type": "code",
      "execution_count": null,
      "metadata": {
        "colab": {
          "base_uri": "https://localhost:8080/",
          "height": 542
        },
        "id": "wddiET0SOjK1",
        "outputId": "141602b1-83ed-4279-f957-620cc4e89305"
      },
      "outputs": [
        {
          "output_type": "execute_result",
          "data": {
            "text/plain": [
              "                        ts       DEST_NE_NAME  Procedure Count  TCP Syn Count  \\\n",
              "397681 2022-10-04 00:50:00      MSK_eNB771152            512.0            0.0   \n",
              "378163 2022-10-04 00:45:00  VLG_eNB0340137_VC            110.0            0.0   \n",
              "231449 2022-10-04 00:30:00  CLB_eNB660007_MTS            212.0            0.0   \n",
              "63341  2022-10-04 00:05:00   SCH_eNB233223_VC           1006.0            0.0   \n",
              "200055 2022-10-04 00:25:00  KRD_eNB0233316_VC            163.0            0.0   \n",
              "\n",
              "        HTTP 1xx Count  HTTP 2xx Count  HTTP 3xx Count  HTTP 4xx Count  \\\n",
              "397681             0.0             0.0             0.0             0.0   \n",
              "378163             0.0             0.0             0.0             0.0   \n",
              "231449             0.0             0.0             0.0             0.0   \n",
              "63341              0.0             0.0             0.0             0.0   \n",
              "200055             0.0             0.0             0.0             0.0   \n",
              "\n",
              "        HTTP 5xx Count  Total Video Count  ...  Total Data Volume (MB)  \\\n",
              "397681             0.0                0.0  ...                    5.05   \n",
              "378163             0.0                0.0  ...                    1.46   \n",
              "231449             0.0                0.0  ...                    4.87   \n",
              "63341              0.0                0.0  ...                   21.35   \n",
              "200055             0.0                0.0  ...                    2.90   \n",
              "\n",
              "        Total Video GB  DL Throughput (kbps)  UL Throughput (kbps)  \\\n",
              "397681             0.0                   0.0                   0.0   \n",
              "378163             0.0                   0.0                   0.0   \n",
              "231449             0.0                   0.0                   0.0   \n",
              "63341              0.0                   0.0                   0.0   \n",
              "200055             0.0                   0.0                   0.0   \n",
              "\n",
              "        Average Video DL Throughput (kbps)  \\\n",
              "397681                                 0.0   \n",
              "378163                                 0.0   \n",
              "231449                                 0.0   \n",
              "63341                                  0.0   \n",
              "200055                                 0.0   \n",
              "\n",
              "        Average Effective DL Throughput (kbps)  \\\n",
              "397681                                     0.0   \n",
              "378163                                     0.0   \n",
              "231449                                     0.0   \n",
              "63341                                      0.0   \n",
              "200055                                     0.0   \n",
              "\n",
              "        Average Effective UL Throughput (kbps)  \\\n",
              "397681                                     0.0   \n",
              "378163                                     0.0   \n",
              "231449                                     0.0   \n",
              "63341                                      0.0   \n",
              "200055                                     0.0   \n",
              "\n",
              "        Average Peak DL Throughput (kbps)  Average Peak UL Throughput (kbps)  \\\n",
              "397681                                0.0                                0.0   \n",
              "378163                                0.0                                0.0   \n",
              "231449                                0.0                                0.0   \n",
              "63341                                 0.0                                0.0   \n",
              "200055                                0.0                                0.0   \n",
              "\n",
              "        min  \n",
              "397681   50  \n",
              "378163   45  \n",
              "231449   30  \n",
              "63341     5  \n",
              "200055   25  \n",
              "\n",
              "[5 rows x 64 columns]"
            ],
            "text/html": [
              "\n",
              "  <div id=\"df-0fd1f8c2-6fed-495e-8284-2599c1ee222a\">\n",
              "    <div class=\"colab-df-container\">\n",
              "      <div>\n",
              "<style scoped>\n",
              "    .dataframe tbody tr th:only-of-type {\n",
              "        vertical-align: middle;\n",
              "    }\n",
              "\n",
              "    .dataframe tbody tr th {\n",
              "        vertical-align: top;\n",
              "    }\n",
              "\n",
              "    .dataframe thead th {\n",
              "        text-align: right;\n",
              "    }\n",
              "</style>\n",
              "<table border=\"1\" class=\"dataframe\">\n",
              "  <thead>\n",
              "    <tr style=\"text-align: right;\">\n",
              "      <th></th>\n",
              "      <th>ts</th>\n",
              "      <th>DEST_NE_NAME</th>\n",
              "      <th>Procedure Count</th>\n",
              "      <th>TCP Syn Count</th>\n",
              "      <th>HTTP 1xx Count</th>\n",
              "      <th>HTTP 2xx Count</th>\n",
              "      <th>HTTP 3xx Count</th>\n",
              "      <th>HTTP 4xx Count</th>\n",
              "      <th>HTTP 5xx Count</th>\n",
              "      <th>Total Video Count</th>\n",
              "      <th>...</th>\n",
              "      <th>Total Data Volume (MB)</th>\n",
              "      <th>Total Video GB</th>\n",
              "      <th>DL Throughput (kbps)</th>\n",
              "      <th>UL Throughput (kbps)</th>\n",
              "      <th>Average Video DL Throughput (kbps)</th>\n",
              "      <th>Average Effective DL Throughput (kbps)</th>\n",
              "      <th>Average Effective UL Throughput (kbps)</th>\n",
              "      <th>Average Peak DL Throughput (kbps)</th>\n",
              "      <th>Average Peak UL Throughput (kbps)</th>\n",
              "      <th>min</th>\n",
              "    </tr>\n",
              "  </thead>\n",
              "  <tbody>\n",
              "    <tr>\n",
              "      <th>397681</th>\n",
              "      <td>2022-10-04 00:50:00</td>\n",
              "      <td>MSK_eNB771152</td>\n",
              "      <td>512.0</td>\n",
              "      <td>0.0</td>\n",
              "      <td>0.0</td>\n",
              "      <td>0.0</td>\n",
              "      <td>0.0</td>\n",
              "      <td>0.0</td>\n",
              "      <td>0.0</td>\n",
              "      <td>0.0</td>\n",
              "      <td>...</td>\n",
              "      <td>5.05</td>\n",
              "      <td>0.0</td>\n",
              "      <td>0.0</td>\n",
              "      <td>0.0</td>\n",
              "      <td>0.0</td>\n",
              "      <td>0.0</td>\n",
              "      <td>0.0</td>\n",
              "      <td>0.0</td>\n",
              "      <td>0.0</td>\n",
              "      <td>50</td>\n",
              "    </tr>\n",
              "    <tr>\n",
              "      <th>378163</th>\n",
              "      <td>2022-10-04 00:45:00</td>\n",
              "      <td>VLG_eNB0340137_VC</td>\n",
              "      <td>110.0</td>\n",
              "      <td>0.0</td>\n",
              "      <td>0.0</td>\n",
              "      <td>0.0</td>\n",
              "      <td>0.0</td>\n",
              "      <td>0.0</td>\n",
              "      <td>0.0</td>\n",
              "      <td>0.0</td>\n",
              "      <td>...</td>\n",
              "      <td>1.46</td>\n",
              "      <td>0.0</td>\n",
              "      <td>0.0</td>\n",
              "      <td>0.0</td>\n",
              "      <td>0.0</td>\n",
              "      <td>0.0</td>\n",
              "      <td>0.0</td>\n",
              "      <td>0.0</td>\n",
              "      <td>0.0</td>\n",
              "      <td>45</td>\n",
              "    </tr>\n",
              "    <tr>\n",
              "      <th>231449</th>\n",
              "      <td>2022-10-04 00:30:00</td>\n",
              "      <td>CLB_eNB660007_MTS</td>\n",
              "      <td>212.0</td>\n",
              "      <td>0.0</td>\n",
              "      <td>0.0</td>\n",
              "      <td>0.0</td>\n",
              "      <td>0.0</td>\n",
              "      <td>0.0</td>\n",
              "      <td>0.0</td>\n",
              "      <td>0.0</td>\n",
              "      <td>...</td>\n",
              "      <td>4.87</td>\n",
              "      <td>0.0</td>\n",
              "      <td>0.0</td>\n",
              "      <td>0.0</td>\n",
              "      <td>0.0</td>\n",
              "      <td>0.0</td>\n",
              "      <td>0.0</td>\n",
              "      <td>0.0</td>\n",
              "      <td>0.0</td>\n",
              "      <td>30</td>\n",
              "    </tr>\n",
              "    <tr>\n",
              "      <th>63341</th>\n",
              "      <td>2022-10-04 00:05:00</td>\n",
              "      <td>SCH_eNB233223_VC</td>\n",
              "      <td>1006.0</td>\n",
              "      <td>0.0</td>\n",
              "      <td>0.0</td>\n",
              "      <td>0.0</td>\n",
              "      <td>0.0</td>\n",
              "      <td>0.0</td>\n",
              "      <td>0.0</td>\n",
              "      <td>0.0</td>\n",
              "      <td>...</td>\n",
              "      <td>21.35</td>\n",
              "      <td>0.0</td>\n",
              "      <td>0.0</td>\n",
              "      <td>0.0</td>\n",
              "      <td>0.0</td>\n",
              "      <td>0.0</td>\n",
              "      <td>0.0</td>\n",
              "      <td>0.0</td>\n",
              "      <td>0.0</td>\n",
              "      <td>5</td>\n",
              "    </tr>\n",
              "    <tr>\n",
              "      <th>200055</th>\n",
              "      <td>2022-10-04 00:25:00</td>\n",
              "      <td>KRD_eNB0233316_VC</td>\n",
              "      <td>163.0</td>\n",
              "      <td>0.0</td>\n",
              "      <td>0.0</td>\n",
              "      <td>0.0</td>\n",
              "      <td>0.0</td>\n",
              "      <td>0.0</td>\n",
              "      <td>0.0</td>\n",
              "      <td>0.0</td>\n",
              "      <td>...</td>\n",
              "      <td>2.90</td>\n",
              "      <td>0.0</td>\n",
              "      <td>0.0</td>\n",
              "      <td>0.0</td>\n",
              "      <td>0.0</td>\n",
              "      <td>0.0</td>\n",
              "      <td>0.0</td>\n",
              "      <td>0.0</td>\n",
              "      <td>0.0</td>\n",
              "      <td>25</td>\n",
              "    </tr>\n",
              "  </tbody>\n",
              "</table>\n",
              "<p>5 rows × 64 columns</p>\n",
              "</div>\n",
              "      <button class=\"colab-df-convert\" onclick=\"convertToInteractive('df-0fd1f8c2-6fed-495e-8284-2599c1ee222a')\"\n",
              "              title=\"Convert this dataframe to an interactive table.\"\n",
              "              style=\"display:none;\">\n",
              "        \n",
              "  <svg xmlns=\"http://www.w3.org/2000/svg\" height=\"24px\"viewBox=\"0 0 24 24\"\n",
              "       width=\"24px\">\n",
              "    <path d=\"M0 0h24v24H0V0z\" fill=\"none\"/>\n",
              "    <path d=\"M18.56 5.44l.94 2.06.94-2.06 2.06-.94-2.06-.94-.94-2.06-.94 2.06-2.06.94zm-11 1L8.5 8.5l.94-2.06 2.06-.94-2.06-.94L8.5 2.5l-.94 2.06-2.06.94zm10 10l.94 2.06.94-2.06 2.06-.94-2.06-.94-.94-2.06-.94 2.06-2.06.94z\"/><path d=\"M17.41 7.96l-1.37-1.37c-.4-.4-.92-.59-1.43-.59-.52 0-1.04.2-1.43.59L10.3 9.45l-7.72 7.72c-.78.78-.78 2.05 0 2.83L4 21.41c.39.39.9.59 1.41.59.51 0 1.02-.2 1.41-.59l7.78-7.78 2.81-2.81c.8-.78.8-2.07 0-2.86zM5.41 20L4 18.59l7.72-7.72 1.47 1.35L5.41 20z\"/>\n",
              "  </svg>\n",
              "      </button>\n",
              "      \n",
              "  <style>\n",
              "    .colab-df-container {\n",
              "      display:flex;\n",
              "      flex-wrap:wrap;\n",
              "      gap: 12px;\n",
              "    }\n",
              "\n",
              "    .colab-df-convert {\n",
              "      background-color: #E8F0FE;\n",
              "      border: none;\n",
              "      border-radius: 50%;\n",
              "      cursor: pointer;\n",
              "      display: none;\n",
              "      fill: #1967D2;\n",
              "      height: 32px;\n",
              "      padding: 0 0 0 0;\n",
              "      width: 32px;\n",
              "    }\n",
              "\n",
              "    .colab-df-convert:hover {\n",
              "      background-color: #E2EBFA;\n",
              "      box-shadow: 0px 1px 2px rgba(60, 64, 67, 0.3), 0px 1px 3px 1px rgba(60, 64, 67, 0.15);\n",
              "      fill: #174EA6;\n",
              "    }\n",
              "\n",
              "    [theme=dark] .colab-df-convert {\n",
              "      background-color: #3B4455;\n",
              "      fill: #D2E3FC;\n",
              "    }\n",
              "\n",
              "    [theme=dark] .colab-df-convert:hover {\n",
              "      background-color: #434B5C;\n",
              "      box-shadow: 0px 1px 3px 1px rgba(0, 0, 0, 0.15);\n",
              "      filter: drop-shadow(0px 1px 2px rgba(0, 0, 0, 0.3));\n",
              "      fill: #FFFFFF;\n",
              "    }\n",
              "  </style>\n",
              "\n",
              "      <script>\n",
              "        const buttonEl =\n",
              "          document.querySelector('#df-0fd1f8c2-6fed-495e-8284-2599c1ee222a button.colab-df-convert');\n",
              "        buttonEl.style.display =\n",
              "          google.colab.kernel.accessAllowed ? 'block' : 'none';\n",
              "\n",
              "        async function convertToInteractive(key) {\n",
              "          const element = document.querySelector('#df-0fd1f8c2-6fed-495e-8284-2599c1ee222a');\n",
              "          const dataTable =\n",
              "            await google.colab.kernel.invokeFunction('convertToInteractive',\n",
              "                                                     [key], {});\n",
              "          if (!dataTable) return;\n",
              "\n",
              "          const docLinkHtml = 'Like what you see? Visit the ' +\n",
              "            '<a target=\"_blank\" href=https://colab.research.google.com/notebooks/data_table.ipynb>data table notebook</a>'\n",
              "            + ' to learn more about interactive tables.';\n",
              "          element.innerHTML = '';\n",
              "          dataTable['output_type'] = 'display_data';\n",
              "          await google.colab.output.renderOutput(dataTable, element);\n",
              "          const docLink = document.createElement('div');\n",
              "          docLink.innerHTML = docLinkHtml;\n",
              "          element.appendChild(docLink);\n",
              "        }\n",
              "      </script>\n",
              "    </div>\n",
              "  </div>\n",
              "  "
            ]
          },
          "metadata": {},
          "execution_count": 16
        }
      ],
      "source": [
        "df.sample(5)"
      ]
    },
    {
      "cell_type": "code",
      "execution_count": null,
      "metadata": {
        "colab": {
          "base_uri": "https://localhost:8080/"
        },
        "id": "vYV7vGbOOfRo",
        "outputId": "dc6ce087-6970-4329-b9cb-86529dc8cf68"
      },
      "outputs": [
        {
          "output_type": "execute_result",
          "data": {
            "text/plain": [
              "2022-10-04 00:10:00    1751\n",
              "2022-10-04 00:15:00    1714\n",
              "2022-10-04 00:40:00    1711\n",
              "2022-10-04 00:35:00    1681\n",
              "2022-10-04 00:00:00    1673\n",
              "2022-10-04 00:55:00    1660\n",
              "2022-10-04 00:50:00    1650\n",
              "2022-10-04 00:25:00    1646\n",
              "2022-10-04 00:45:00    1640\n",
              "2022-10-04 00:05:00    1627\n",
              "2022-10-04 00:30:00    1627\n",
              "2022-10-04 00:20:00    1620\n",
              "Name: ts, dtype: int64"
            ]
          },
          "metadata": {},
          "execution_count": 17
        }
      ],
      "source": [
        "df['ts'].value_counts()"
      ]
    },
    {
      "cell_type": "code",
      "execution_count": null,
      "metadata": {
        "colab": {
          "base_uri": "https://localhost:8080/"
        },
        "id": "5sEGRuQIOmyn",
        "outputId": "09723562-cdbf-471b-c3f1-d2d500fde84a"
      },
      "outputs": [
        {
          "output_type": "execute_result",
          "data": {
            "text/plain": [
              "KMR_eNB421126        6\n",
              "KIR_eNB322457_MTS    5\n",
              "KLG_eNB0402636_VC    5\n",
              "VOL_eNB220513_MTS    5\n",
              "MSK_eNB773103        5\n",
              "                    ..\n",
              "RND_eNB611139        1\n",
              "NNV_eNB305757_MTS    1\n",
              "BRN_eNB222020        1\n",
              "MSK_eNB774093        1\n",
              "SPB_eNB781702        1\n",
              "Name: DEST_NE_NAME, Length: 15634, dtype: int64"
            ]
          },
          "metadata": {},
          "execution_count": 18
        }
      ],
      "source": [
        "df['DEST_NE_NAME'].value_counts()"
      ]
    },
    {
      "cell_type": "code",
      "execution_count": null,
      "metadata": {
        "colab": {
          "base_uri": "https://localhost:8080/"
        },
        "id": "fs8uNzzPOv41",
        "outputId": "470351dd-4394-4e76-aeee-55c6aa0f3781"
      },
      "outputs": [
        {
          "output_type": "execute_result",
          "data": {
            "text/plain": [
              "ts                                        0\n",
              "DEST_NE_NAME                              0\n",
              "Procedure Count                           0\n",
              "TCP Syn Count                             0\n",
              "HTTP 1xx Count                            0\n",
              "                                         ..\n",
              "Average Effective DL Throughput (kbps)    0\n",
              "Average Effective UL Throughput (kbps)    0\n",
              "Average Peak DL Throughput (kbps)         0\n",
              "Average Peak UL Throughput (kbps)         0\n",
              "min                                       0\n",
              "Length: 64, dtype: int64"
            ]
          },
          "metadata": {},
          "execution_count": 19
        }
      ],
      "source": [
        "df.isnull().sum()"
      ]
    },
    {
      "cell_type": "code",
      "execution_count": null,
      "metadata": {
        "colab": {
          "base_uri": "https://localhost:8080/"
        },
        "id": "KMsBGdm_Ozvt",
        "outputId": "ad1a39f5-da6d-4a07-8cfc-03a8ba8657aa"
      },
      "outputs": [
        {
          "output_type": "execute_result",
          "data": {
            "text/plain": [
              "count    2.000000e+04\n",
              "mean     8.962963e+02\n",
              "std      1.620992e+04\n",
              "min      0.000000e+00\n",
              "25%      1.590000e+02\n",
              "50%      3.180000e+02\n",
              "75%      5.930000e+02\n",
              "max      1.252918e+06\n",
              "Name: Procedure Count, dtype: float64"
            ]
          },
          "metadata": {},
          "execution_count": 20
        }
      ],
      "source": [
        "df['Procedure Count'].describe()"
      ]
    },
    {
      "cell_type": "code",
      "execution_count": null,
      "metadata": {
        "colab": {
          "base_uri": "https://localhost:8080/"
        },
        "id": "a2oqAcYTO7zM",
        "outputId": "8ac2d509-01ec-4b42-bbad-9d6a3e37c533"
      },
      "outputs": [
        {
          "output_type": "execute_result",
          "data": {
            "text/plain": [
              "ts                                        datetime64[ns]\n",
              "DEST_NE_NAME                                      object\n",
              "Procedure Count                                  float64\n",
              "TCP Syn Count                                    float64\n",
              "HTTP 1xx Count                                   float64\n",
              "                                               ...      \n",
              "Average Effective DL Throughput (kbps)           float64\n",
              "Average Effective UL Throughput (kbps)           float64\n",
              "Average Peak DL Throughput (kbps)                float64\n",
              "Average Peak UL Throughput (kbps)                float64\n",
              "min                                                int64\n",
              "Length: 64, dtype: object"
            ]
          },
          "metadata": {},
          "execution_count": 21
        }
      ],
      "source": [
        "df.dtypes"
      ]
    },
    {
      "cell_type": "code",
      "execution_count": null,
      "metadata": {
        "colab": {
          "base_uri": "https://localhost:8080/"
        },
        "id": "Je2mlCBOPAB1",
        "outputId": "798644b6-8d9f-4061-eb1c-a656a590000c"
      },
      "outputs": [
        {
          "output_type": "execute_result",
          "data": {
            "text/plain": [
              "Procedure Count                         1.000000\n",
              "UL Data Volume (MB)                     0.967702\n",
              "TCP Syn Count                           0.966846\n",
              "Total Data Volume (MB)                  0.966286\n",
              "DL Data Volume (MB)                     0.963091\n",
              "                                          ...   \n",
              "Total Poor Video Resolution Count            NaN\n",
              "Total Video Resolution 4 Time (msec)         NaN\n",
              "Poor Video Quality Ratio (%)                 NaN\n",
              "Video No Play Ratio (%)                      NaN\n",
              "Poor Video Resolution Ratio (%)              NaN\n",
              "Name: Procedure Count, Length: 62, dtype: float64"
            ]
          },
          "metadata": {},
          "execution_count": 22
        }
      ],
      "source": [
        "corr=df.corr()\n",
        "corr[\"Procedure Count\"].sort_values(ascending=False)"
      ]
    },
    {
      "cell_type": "code",
      "execution_count": null,
      "metadata": {
        "id": "fGoPzw0KAtak"
      },
      "outputs": [],
      "source": [
        "df=df[['DNS Failure Latency (msec)',\n",
        "       'DNS Success Latency (msec)', 'Internet Latency (msec)',\n",
        "       'Round Trip Time (msec)', 'HTTP Latency (msec)',\n",
        "       'DL Data Volume (MB)', 'UL Data Volume (MB)',\n",
        "       'DL Throughput (kbps)',\n",
        "       'UL Throughput (kbps)','ts','DEST_NE_NAME','min']]\n",
        "\n",
        "df_new = df\n",
        "r = df[['ts','DEST_NE_NAME','min']]\n",
        "s = scaler.fit_transform(df.drop(['ts','DEST_NE_NAME','min'],axis=1))\n",
        "t = pd.DataFrame(s,columns=['DNS Failure Latency (msec)',\n",
        "       'DNS Success Latency (msec)', 'Internet Latency (msec)',\n",
        "       'Round Trip Time (msec)', 'HTTP Latency (msec)',\n",
        "       'DL Data Volume (MB)', 'UL Data Volume (MB)',\n",
        "       'DL Throughput (kbps)',\n",
        "       'UL Throughput (kbps)'])\n",
        "df = pd.concat([t.reset_index(drop=True),r.reset_index(drop=True)],axis=1)"
      ]
    },
    {
      "cell_type": "markdown",
      "source": [
        "## **OpenTSNE**"
      ],
      "metadata": {
        "id": "hj_kPtMLbfL1"
      }
    },
    {
      "cell_type": "markdown",
      "source": [
        "### Reference Embedding"
      ],
      "metadata": {
        "id": "ueuyod1JcK0G"
      }
    },
    {
      "cell_type": "code",
      "execution_count": null,
      "metadata": {
        "colab": {
          "base_uri": "https://localhost:8080/"
        },
        "id": "q9mG-QSjPXil",
        "outputId": "21d4ab55-3d59-4299-b30e-39ed7136b4f6"
      },
      "outputs": [
        {
          "output_type": "stream",
          "name": "stdout",
          "text": [
            "===> Finding 90 nearest neighbors using Annoy approximate search using euclidean distance...\n",
            "   --> Time elapsed: 0.86 seconds\n",
            "===> Calculating affinity matrix...\n",
            "   --> Time elapsed: 0.09 seconds\n",
            "===> Running optimization with exaggeration=12.00, lr=139.42 for 400 iterations...\n",
            "Iteration   50, KL divergence 3.4021, 50 iterations in 1.1270 sec\n",
            "Iteration  100, KL divergence 2.2341, 50 iterations in 0.9216 sec\n",
            "Iteration  150, KL divergence 1.9520, 50 iterations in 0.9121 sec\n",
            "Iteration  200, KL divergence 1.8335, 50 iterations in 1.8930 sec\n",
            "Iteration  250, KL divergence 1.7696, 50 iterations in 1.3253 sec\n",
            "Iteration  300, KL divergence 1.7309, 50 iterations in 0.9946 sec\n",
            "Iteration  350, KL divergence 1.7050, 50 iterations in 0.9812 sec\n",
            "Iteration  400, KL divergence 1.6863, 50 iterations in 1.1023 sec\n",
            "   --> Time elapsed: 9.26 seconds\n",
            "===> Running optimization with exaggeration=1.00, lr=1673.00 for 800 iterations...\n",
            "Iteration   50, KL divergence 0.4674, 50 iterations in 1.5989 sec\n",
            "Iteration  100, KL divergence 0.3943, 50 iterations in 3.3162 sec\n",
            "Iteration  150, KL divergence 0.3661, 50 iterations in 8.1727 sec\n",
            "Iteration  200, KL divergence 0.3495, 50 iterations in 5.4413 sec\n",
            "Iteration  250, KL divergence 0.3374, 50 iterations in 9.6050 sec\n",
            "Iteration  300, KL divergence 0.3291, 50 iterations in 8.5278 sec\n",
            "Iteration  350, KL divergence 0.3233, 50 iterations in 4.6681 sec\n",
            "Iteration  400, KL divergence 0.3185, 50 iterations in 8.9434 sec\n",
            "Iteration  450, KL divergence 0.3149, 50 iterations in 5.0720 sec\n",
            "Iteration  500, KL divergence 0.3115, 50 iterations in 4.7868 sec\n",
            "Iteration  550, KL divergence 0.3086, 50 iterations in 6.2542 sec\n",
            "Iteration  600, KL divergence 0.3052, 50 iterations in 5.1857 sec\n",
            "Iteration  650, KL divergence 0.3038, 50 iterations in 6.1114 sec\n",
            "Iteration  700, KL divergence 0.3007, 50 iterations in 5.0272 sec\n",
            "Iteration  750, KL divergence 0.2999, 50 iterations in 6.6912 sec\n",
            "Iteration  800, KL divergence 0.2985, 50 iterations in 5.6614 sec\n",
            "   --> Time elapsed: 95.08 seconds\n",
            "===> Running optimization with exaggeration=1.00, lr=1673.00 for 300 iterations...\n",
            "Iteration   50, KL divergence 0.2975, 50 iterations in 7.1870 sec\n",
            "Iteration  100, KL divergence 0.2967, 50 iterations in 6.8717 sec\n",
            "Iteration  150, KL divergence 0.2952, 50 iterations in 7.8613 sec\n",
            "Iteration  200, KL divergence 0.2944, 50 iterations in 7.1157 sec\n",
            "Iteration  250, KL divergence 0.2934, 50 iterations in 8.9763 sec\n",
            "Iteration  300, KL divergence 0.2929, 50 iterations in 13.7429 sec\n",
            "   --> Time elapsed: 51.76 seconds\n"
          ]
        }
      ],
      "source": [
        "x = df[df[\"min\"]==0]\n",
        "z = df_new[df_new[\"min\"]==0]\n",
        "x = x.drop(['ts','DEST_NE_NAME','min'],axis=1)\n",
        "x = x.to_numpy()\n",
        "\n",
        "affinities_train = affinity.PerplexityBasedNN(\n",
        "    x,\n",
        "    perplexity=30,\n",
        "    metric=\"euclidean\",\n",
        "    n_jobs=8,\n",
        "    random_state=0,\n",
        "    verbose=True,\n",
        ")\n",
        "\n",
        "init_train = initialization.pca(x, random_state=0)\n",
        "\n",
        "embedding_train = TSNEEmbedding(\n",
        "    init_train,\n",
        "    affinities_train,\n",
        "    negative_gradient_method=\"fft\",\n",
        "    n_jobs=8,\n",
        "    verbose=True,\n",
        ")\n",
        "\n",
        "embedding_train_1 = embedding_train.optimize(n_iter=400, exaggeration=12, momentum=0.4)\n",
        "\n",
        "embedding_train_2 = embedding_train_1.optimize(n_iter=800, momentum=0.7)\n",
        "\n",
        "embedding_train_2 = embedding_train_2.optimize(n_iter=300, momentum=0.5)\n",
        "\n",
        "dff0 = pd.DataFrame(embedding_train_2, columns = ['comp_1','comp_2'])\n",
        "dff0 = pd.concat([dff0.reset_index(drop=True), z.reset_index(drop=True)],axis=1)"
      ]
    },
    {
      "cell_type": "markdown",
      "source": [
        "### Embedding new points in the reference embedding"
      ],
      "metadata": {
        "id": "OFNzB_yocU6v"
      }
    },
    {
      "cell_type": "code",
      "execution_count": null,
      "metadata": {
        "id": "t1B3DQuRQC6N",
        "colab": {
          "base_uri": "https://localhost:8080/"
        },
        "outputId": "5087aff6-bd6a-4329-f2e8-44be18ffd8ed"
      },
      "outputs": [
        {
          "output_type": "stream",
          "name": "stdout",
          "text": [
            "===> Finding 15 nearest neighbors in existing embedding using Annoy approximate search...\n",
            "   --> Time elapsed: 0.29 seconds\n",
            "===> Calculating affinity matrix...\n",
            "   --> Time elapsed: 0.04 seconds\n",
            "===> Running optimization with exaggeration=1.00, lr=0.10 for 300 iterations...\n",
            "Iteration   50, KL divergence 19481.2506, 50 iterations in 0.0772 sec\n",
            "Iteration  100, KL divergence 19248.5325, 50 iterations in 0.0608 sec\n",
            "Iteration  150, KL divergence 19061.8088, 50 iterations in 0.0614 sec\n",
            "Iteration  200, KL divergence 18902.6557, 50 iterations in 0.0683 sec\n",
            "Iteration  250, KL divergence 18759.7516, 50 iterations in 0.0774 sec\n",
            "Iteration  300, KL divergence 18628.9812, 50 iterations in 0.0606 sec\n",
            "   --> Time elapsed: 0.41 seconds\n"
          ]
        }
      ],
      "source": [
        "x_test = df[df[\"min\"]==5]\n",
        "z_test = df_new[df_new[\"min\"]==5]\n",
        "x_test = x_test.drop(['ts','DEST_NE_NAME','min'],axis=1)\n",
        "x_test = x_test.to_numpy()\n",
        "\n",
        "embedding_test = embedding_train_2.prepare_partial(\n",
        "    x_test,\n",
        "    initialization=\"median\",\n",
        "    k=25,\n",
        "    perplexity=5,\n",
        ")\n",
        "\n",
        "embedding_test_1 = embedding_test.optimize(n_iter=300, learning_rate=0.1, momentum=0.8)\n",
        "\n",
        "dff1 = pd.DataFrame(embedding_test_1, columns = ['comp_1','comp_2'])\n",
        "dff1 = pd.concat([dff1.reset_index(drop=True),z_test.reset_index(drop=True)],axis=1)"
      ]
    },
    {
      "cell_type": "code",
      "execution_count": null,
      "metadata": {
        "id": "znl8j7ISQVo9",
        "colab": {
          "base_uri": "https://localhost:8080/"
        },
        "outputId": "09d005aa-bb54-4614-dea1-d8c0820e1138"
      },
      "outputs": [
        {
          "output_type": "stream",
          "name": "stdout",
          "text": [
            "===> Finding 15 nearest neighbors in existing embedding using Annoy approximate search...\n",
            "   --> Time elapsed: 0.37 seconds\n",
            "===> Calculating affinity matrix...\n",
            "   --> Time elapsed: 0.05 seconds\n",
            "===> Running optimization with exaggeration=1.00, lr=0.10 for 300 iterations...\n",
            "Iteration   50, KL divergence 15374.7407, 50 iterations in 0.1350 sec\n",
            "Iteration  100, KL divergence 15356.8045, 50 iterations in 0.0974 sec\n",
            "Iteration  150, KL divergence 15351.3562, 50 iterations in 0.0985 sec\n",
            "Iteration  200, KL divergence 15347.8325, 50 iterations in 0.0745 sec\n",
            "Iteration  250, KL divergence 15345.9764, 50 iterations in 0.0718 sec\n",
            "Iteration  300, KL divergence 15344.4084, 50 iterations in 0.0659 sec\n",
            "   --> Time elapsed: 0.55 seconds\n"
          ]
        }
      ],
      "source": [
        "x_test = df[df[\"min\"]==10]\n",
        "z_test = df_new[df_new[\"min\"]==10]\n",
        "x_test = x_test.drop(['ts','DEST_NE_NAME','min'],axis=1)\n",
        "x_test = x_test.to_numpy()\n",
        "\n",
        "embedding_test = embedding_train_2.prepare_partial(\n",
        "    x_test,\n",
        "    initialization=\"median\",\n",
        "    k=25,\n",
        "    perplexity=5,\n",
        ")\n",
        "\n",
        "embedding_test_1 = embedding_test.optimize(n_iter=300, learning_rate=0.1, momentum=0.8)\n",
        "\n",
        "dff2 = pd.DataFrame(embedding_test_1, columns = ['comp_1','comp_2'])\n",
        "dff2 = pd.concat([dff2.reset_index(drop=True),z_test.reset_index(drop=True)],axis=1)"
      ]
    },
    {
      "cell_type": "code",
      "execution_count": null,
      "metadata": {
        "id": "9BjPj0ltQkHG",
        "colab": {
          "base_uri": "https://localhost:8080/"
        },
        "outputId": "81396b88-5995-4fb1-ccd1-a12a19c5aba9"
      },
      "outputs": [
        {
          "output_type": "stream",
          "name": "stdout",
          "text": [
            "===> Finding 15 nearest neighbors in existing embedding using Annoy approximate search...\n",
            "   --> Time elapsed: 0.31 seconds\n",
            "===> Calculating affinity matrix...\n",
            "   --> Time elapsed: 0.02 seconds\n",
            "===> Running optimization with exaggeration=1.00, lr=0.10 for 300 iterations...\n",
            "Iteration   50, KL divergence 15009.5486, 50 iterations in 0.0803 sec\n",
            "Iteration  100, KL divergence 14988.2470, 50 iterations in 0.0739 sec\n",
            "Iteration  150, KL divergence 14979.4442, 50 iterations in 0.0773 sec\n",
            "Iteration  200, KL divergence 14974.3831, 50 iterations in 0.0660 sec\n",
            "Iteration  250, KL divergence 14971.5163, 50 iterations in 0.0677 sec\n",
            "Iteration  300, KL divergence 14969.0810, 50 iterations in 0.0624 sec\n",
            "   --> Time elapsed: 0.43 seconds\n"
          ]
        }
      ],
      "source": [
        "x_test = df[df[\"min\"]==15]\n",
        "z_test = df_new[df_new[\"min\"]==15]\n",
        "x_test = x_test.drop(['ts','DEST_NE_NAME','min'],axis=1)\n",
        "x_test = x_test.to_numpy()\n",
        "\n",
        "embedding_test = embedding_train_2.prepare_partial(\n",
        "    x_test,\n",
        "    initialization=\"median\",\n",
        "    k=25,\n",
        "    perplexity=5,\n",
        ")\n",
        "\n",
        "embedding_test_1 = embedding_test.optimize(n_iter=300, learning_rate=0.1, momentum=0.8)\n",
        "\n",
        "dff3 = pd.DataFrame(embedding_test_1, columns = ['comp_1','comp_2'])\n",
        "dff3 = pd.concat([dff3.reset_index(drop=True),z_test.reset_index(drop=True)],axis=1)"
      ]
    },
    {
      "cell_type": "code",
      "execution_count": null,
      "metadata": {
        "colab": {
          "base_uri": "https://localhost:8080/"
        },
        "id": "M0FTTPwVQyfl",
        "outputId": "03a7688c-3d73-4e49-ed09-46ff9fdf586a"
      },
      "outputs": [
        {
          "output_type": "stream",
          "name": "stdout",
          "text": [
            "===> Finding 15 nearest neighbors in existing embedding using Annoy approximate search...\n",
            "   --> Time elapsed: 0.29 seconds\n",
            "===> Calculating affinity matrix...\n",
            "   --> Time elapsed: 0.04 seconds\n",
            "===> Running optimization with exaggeration=1.00, lr=0.10 for 300 iterations...\n",
            "Iteration   50, KL divergence 14121.3946, 50 iterations in 0.0688 sec\n",
            "Iteration  100, KL divergence 14103.9509, 50 iterations in 0.0612 sec\n",
            "Iteration  150, KL divergence 14096.5441, 50 iterations in 0.0728 sec\n",
            "Iteration  200, KL divergence 14091.7152, 50 iterations in 0.0891 sec\n",
            "Iteration  250, KL divergence 14088.3486, 50 iterations in 0.1027 sec\n",
            "Iteration  300, KL divergence 14086.3683, 50 iterations in 0.1179 sec\n",
            "   --> Time elapsed: 0.52 seconds\n"
          ]
        }
      ],
      "source": [
        "x_test = df[df[\"min\"]==20]\n",
        "z_test = df_new[df_new[\"min\"]==20]\n",
        "x_test = x_test.drop(['ts','DEST_NE_NAME','min'],axis=1)\n",
        "x_test = x_test.to_numpy()\n",
        "\n",
        "embedding_test = embedding_train_2.prepare_partial(\n",
        "    x_test,\n",
        "    initialization=\"median\",\n",
        "    k=25,\n",
        "    perplexity=5,\n",
        ")\n",
        "\n",
        "embedding_test_1 = embedding_test.optimize(n_iter=300, learning_rate=0.1, momentum=0.8)\n",
        "\n",
        "dff4 = pd.DataFrame(embedding_test_1, columns = ['comp_1','comp_2'])\n",
        "dff4 = pd.concat([dff4.reset_index(drop=True),z_test.reset_index(drop=True)],axis=1)"
      ]
    },
    {
      "cell_type": "code",
      "execution_count": null,
      "metadata": {
        "colab": {
          "base_uri": "https://localhost:8080/"
        },
        "id": "NFYv0YvJQ6sN",
        "outputId": "0038e07e-d6fc-40b3-8ce0-e4449d6e1bc8"
      },
      "outputs": [
        {
          "output_type": "stream",
          "name": "stdout",
          "text": [
            "===> Finding 15 nearest neighbors in existing embedding using Annoy approximate search...\n",
            "   --> Time elapsed: 0.49 seconds\n",
            "===> Calculating affinity matrix...\n",
            "   --> Time elapsed: 0.03 seconds\n",
            "===> Running optimization with exaggeration=1.00, lr=0.10 for 300 iterations...\n",
            "Iteration   50, KL divergence 14392.3405, 50 iterations in 0.0981 sec\n",
            "Iteration  100, KL divergence 14371.0310, 50 iterations in 0.1145 sec\n",
            "Iteration  150, KL divergence 14363.3560, 50 iterations in 0.1184 sec\n",
            "Iteration  200, KL divergence 14359.8287, 50 iterations in 0.1156 sec\n",
            "Iteration  250, KL divergence 14357.7002, 50 iterations in 0.1694 sec\n",
            "Iteration  300, KL divergence 14354.9905, 50 iterations in 0.2181 sec\n",
            "   --> Time elapsed: 0.84 seconds\n"
          ]
        }
      ],
      "source": [
        "x_test = df[df[\"min\"]==25]\n",
        "z_test = df_new[df_new[\"min\"]==25]\n",
        "x_test = x_test.drop(['ts','DEST_NE_NAME','min'],axis=1)\n",
        "x_test = x_test.to_numpy()\n",
        "\n",
        "embedding_test = embedding_train_2.prepare_partial(\n",
        "    x_test,\n",
        "    initialization=\"median\",\n",
        "    k=25,\n",
        "    perplexity=5,\n",
        ")\n",
        "\n",
        "embedding_test_1 = embedding_test.optimize(n_iter=300, learning_rate=0.1, momentum=0.8)\n",
        "\n",
        "dff5 = pd.DataFrame(embedding_test_1, columns = ['comp_1','comp_2'])\n",
        "dff5 = pd.concat([dff5.reset_index(drop=True),z_test.reset_index(drop=True)],axis=1)"
      ]
    },
    {
      "cell_type": "code",
      "execution_count": null,
      "metadata": {
        "colab": {
          "base_uri": "https://localhost:8080/"
        },
        "id": "xM81DJMVQ-CF",
        "outputId": "9cc9f6c4-a70d-4382-d2a0-0201c5525183"
      },
      "outputs": [
        {
          "output_type": "stream",
          "name": "stdout",
          "text": [
            "===> Finding 15 nearest neighbors in existing embedding using Annoy approximate search...\n",
            "   --> Time elapsed: 0.98 seconds\n",
            "===> Calculating affinity matrix...\n",
            "   --> Time elapsed: 0.03 seconds\n",
            "===> Running optimization with exaggeration=1.00, lr=0.10 for 300 iterations...\n",
            "Iteration   50, KL divergence 14188.4232, 50 iterations in 0.1027 sec\n",
            "Iteration  100, KL divergence 14171.9867, 50 iterations in 0.1181 sec\n",
            "Iteration  150, KL divergence 14165.0091, 50 iterations in 0.0654 sec\n",
            "Iteration  200, KL divergence 14160.8325, 50 iterations in 0.0609 sec\n",
            "Iteration  250, KL divergence 14157.1916, 50 iterations in 0.0600 sec\n",
            "Iteration  300, KL divergence 14154.1574, 50 iterations in 0.0795 sec\n",
            "   --> Time elapsed: 0.49 seconds\n"
          ]
        }
      ],
      "source": [
        "x_test = df[df[\"min\"]==30]\n",
        "z_test = df_new[df_new[\"min\"]==30]\n",
        "x_test = x_test.drop(['ts','DEST_NE_NAME','min'],axis=1)\n",
        "x_test = x_test.to_numpy()\n",
        "\n",
        "embedding_test = embedding_train_2.prepare_partial(\n",
        "    x_test,\n",
        "    initialization=\"median\",\n",
        "    k=25,\n",
        "    perplexity=5,\n",
        ")\n",
        "\n",
        "embedding_test_1 = embedding_test.optimize(n_iter=300, learning_rate=0.1, momentum=0.8)\n",
        "\n",
        "dff6 = pd.DataFrame(embedding_test_1, columns = ['comp_1','comp_2'])\n",
        "dff6 = pd.concat([dff6.reset_index(drop=True),z_test.reset_index(drop=True)],axis=1)"
      ]
    },
    {
      "cell_type": "code",
      "execution_count": null,
      "metadata": {
        "id": "WtQrad8sRBQE",
        "colab": {
          "base_uri": "https://localhost:8080/"
        },
        "outputId": "de6e288a-cd4b-4bf7-8862-1a628069704e"
      },
      "outputs": [
        {
          "output_type": "stream",
          "name": "stdout",
          "text": [
            "===> Finding 15 nearest neighbors in existing embedding using Annoy approximate search...\n",
            "   --> Time elapsed: 0.29 seconds\n",
            "===> Calculating affinity matrix...\n",
            "   --> Time elapsed: 0.02 seconds\n",
            "===> Running optimization with exaggeration=1.00, lr=0.10 for 300 iterations...\n",
            "Iteration   50, KL divergence 14696.1664, 50 iterations in 0.0644 sec\n",
            "Iteration  100, KL divergence 14676.0808, 50 iterations in 0.0640 sec\n",
            "Iteration  150, KL divergence 14666.5573, 50 iterations in 0.0676 sec\n",
            "Iteration  200, KL divergence 14660.6864, 50 iterations in 0.0690 sec\n",
            "Iteration  250, KL divergence 14656.8496, 50 iterations in 0.0605 sec\n",
            "Iteration  300, KL divergence 14654.1198, 50 iterations in 0.0603 sec\n",
            "   --> Time elapsed: 0.39 seconds\n"
          ]
        }
      ],
      "source": [
        "x_test = df[df[\"min\"]==35]\n",
        "z_test = df_new[df_new[\"min\"]==35]\n",
        "x_test = x_test.drop(['ts','DEST_NE_NAME','min'],axis=1)\n",
        "x_test = x_test.to_numpy()\n",
        "\n",
        "embedding_test = embedding_train_2.prepare_partial(\n",
        "    x_test,\n",
        "    initialization=\"median\",\n",
        "    k=25,\n",
        "    perplexity=5,\n",
        ")\n",
        "\n",
        "embedding_test_1 = embedding_test.optimize(n_iter=300, learning_rate=0.1, momentum=0.8)\n",
        "\n",
        "dff7 = pd.DataFrame(embedding_test_1, columns = ['comp_1','comp_2'])\n",
        "dff7 = pd.concat([dff7.reset_index(drop=True),z_test.reset_index(drop=True)],axis=1)"
      ]
    },
    {
      "cell_type": "code",
      "source": [
        "x_test = df[df[\"min\"]==40]\n",
        "z_test = df_new[df_new[\"min\"]==40]\n",
        "x_test = x_test.drop(['ts','DEST_NE_NAME','min'],axis=1)\n",
        "x_test = x_test.to_numpy()\n",
        "\n",
        "embedding_test = embedding_train_2.prepare_partial(\n",
        "    x_test,\n",
        "    initialization=\"median\",\n",
        "    k=25,\n",
        "    perplexity=5,\n",
        ")\n",
        "\n",
        "embedding_test_1 = embedding_test.optimize(n_iter=300, learning_rate=0.1, momentum=0.8)\n",
        "\n",
        "dff8 = pd.DataFrame(embedding_test_1, columns = ['comp_1','comp_2'])\n",
        "dff8 = pd.concat([dff8.reset_index(drop=True),z_test.reset_index(drop=True)],axis=1)"
      ],
      "metadata": {
        "colab": {
          "base_uri": "https://localhost:8080/"
        },
        "id": "Vb2iodcGIRN0",
        "outputId": "73d5bea1-c76e-4382-ba53-999c99382ed9"
      },
      "execution_count": null,
      "outputs": [
        {
          "output_type": "stream",
          "name": "stdout",
          "text": [
            "===> Finding 15 nearest neighbors in existing embedding using Annoy approximate search...\n",
            "   --> Time elapsed: 0.34 seconds\n",
            "===> Calculating affinity matrix...\n",
            "   --> Time elapsed: 0.02 seconds\n",
            "===> Running optimization with exaggeration=1.00, lr=0.10 for 300 iterations...\n",
            "Iteration   50, KL divergence 15006.1512, 50 iterations in 0.0716 sec\n",
            "Iteration  100, KL divergence 14982.0661, 50 iterations in 0.0635 sec\n",
            "Iteration  150, KL divergence 14972.7803, 50 iterations in 0.0842 sec\n",
            "Iteration  200, KL divergence 14969.1791, 50 iterations in 0.0636 sec\n",
            "Iteration  250, KL divergence 14967.1460, 50 iterations in 0.0631 sec\n",
            "Iteration  300, KL divergence 14965.1944, 50 iterations in 0.0629 sec\n",
            "   --> Time elapsed: 0.41 seconds\n"
          ]
        }
      ]
    },
    {
      "cell_type": "code",
      "source": [
        "x_test = df[df[\"min\"]==45]\n",
        "z_test = df_new[df_new[\"min\"]==45]\n",
        "x_test = x_test.drop(['ts','DEST_NE_NAME','min'],axis=1)\n",
        "x_test = x_test.to_numpy()\n",
        "\n",
        "embedding_test = embedding_train_2.prepare_partial(\n",
        "    x_test,\n",
        "    initialization=\"median\",\n",
        "    k=25,\n",
        "    perplexity=5,\n",
        ")\n",
        "\n",
        "embedding_test_1 = embedding_test.optimize(n_iter=300, learning_rate=0.1, momentum=0.8)\n",
        "\n",
        "dff9 = pd.DataFrame(embedding_test_1, columns = ['comp_1','comp_2'])\n",
        "dff9 = pd.concat([dff9.reset_index(drop=True),z_test.reset_index(drop=True)],axis=1)"
      ],
      "metadata": {
        "colab": {
          "base_uri": "https://localhost:8080/"
        },
        "id": "yNvLytHPIpBF",
        "outputId": "c94ae7cf-3ea6-4418-e1b0-4893eff797cc"
      },
      "execution_count": null,
      "outputs": [
        {
          "output_type": "stream",
          "name": "stdout",
          "text": [
            "===> Finding 15 nearest neighbors in existing embedding using Annoy approximate search...\n",
            "   --> Time elapsed: 0.32 seconds\n",
            "===> Calculating affinity matrix...\n",
            "   --> Time elapsed: 0.02 seconds\n",
            "===> Running optimization with exaggeration=1.00, lr=0.10 for 300 iterations...\n",
            "Iteration   50, KL divergence 14319.1746, 50 iterations in 0.0677 sec\n",
            "Iteration  100, KL divergence 14300.1587, 50 iterations in 0.0693 sec\n",
            "Iteration  150, KL divergence 14293.5063, 50 iterations in 0.0743 sec\n",
            "Iteration  200, KL divergence 14289.9091, 50 iterations in 0.0617 sec\n",
            "Iteration  250, KL divergence 14286.9710, 50 iterations in 0.0604 sec\n",
            "Iteration  300, KL divergence 14284.0216, 50 iterations in 0.0612 sec\n",
            "   --> Time elapsed: 0.40 seconds\n"
          ]
        }
      ]
    },
    {
      "cell_type": "code",
      "source": [
        "x_test = df[df[\"min\"]==50]\n",
        "z_test = df_new[df_new[\"min\"]==50]\n",
        "x_test = x_test.drop(['ts','DEST_NE_NAME','min'],axis=1)\n",
        "x_test = x_test.to_numpy()\n",
        "\n",
        "embedding_test = embedding_train_2.prepare_partial(\n",
        "    x_test,\n",
        "    initialization=\"median\",\n",
        "    k=25,\n",
        "    perplexity=5,\n",
        ")\n",
        "\n",
        "embedding_test_1 = embedding_test.optimize(n_iter=300, learning_rate=0.1, momentum=0.8)\n",
        "\n",
        "dff10 = pd.DataFrame(embedding_test_1, columns = ['comp_1','comp_2'])\n",
        "dff10 = pd.concat([dff10.reset_index(drop=True),z_test.reset_index(drop=True)],axis=1)"
      ],
      "metadata": {
        "colab": {
          "base_uri": "https://localhost:8080/"
        },
        "id": "9QcVRqtxItVV",
        "outputId": "5501a1e2-7c4a-421d-a582-2f6801a9080e"
      },
      "execution_count": null,
      "outputs": [
        {
          "output_type": "stream",
          "name": "stdout",
          "text": [
            "===> Finding 15 nearest neighbors in existing embedding using Annoy approximate search...\n",
            "   --> Time elapsed: 0.33 seconds\n",
            "===> Calculating affinity matrix...\n",
            "   --> Time elapsed: 0.03 seconds\n",
            "===> Running optimization with exaggeration=1.00, lr=0.10 for 300 iterations...\n",
            "Iteration   50, KL divergence 14362.8849, 50 iterations in 0.0984 sec\n",
            "Iteration  100, KL divergence 14344.6795, 50 iterations in 0.1081 sec\n",
            "Iteration  150, KL divergence 14337.6441, 50 iterations in 0.1435 sec\n",
            "Iteration  200, KL divergence 14333.2421, 50 iterations in 0.1073 sec\n",
            "Iteration  250, KL divergence 14329.8788, 50 iterations in 0.1054 sec\n",
            "Iteration  300, KL divergence 14326.5125, 50 iterations in 0.1599 sec\n",
            "   --> Time elapsed: 0.73 seconds\n"
          ]
        }
      ]
    },
    {
      "cell_type": "code",
      "source": [
        "x_test = df[df[\"min\"]==55]\n",
        "z_test = df_new[df_new[\"min\"]==55]\n",
        "x_test = x_test.drop(['ts','DEST_NE_NAME','min'],axis=1)\n",
        "x_test = x_test.to_numpy()\n",
        "\n",
        "embedding_test = embedding_train_2.prepare_partial(\n",
        "    x_test,\n",
        "    initialization=\"median\",\n",
        "    k=25,\n",
        "    perplexity=5,\n",
        ")\n",
        "\n",
        "embedding_test_1 = embedding_test.optimize(n_iter=300, learning_rate=0.1, momentum=0.8)\n",
        "\n",
        "dff11 = pd.DataFrame(embedding_test_1, columns = ['comp_1','comp_2'])\n",
        "dff11 = pd.concat([dff11.reset_index(drop=True),z_test.reset_index(drop=True)],axis=1)"
      ],
      "metadata": {
        "colab": {
          "base_uri": "https://localhost:8080/"
        },
        "id": "cX9xtsaLIuLu",
        "outputId": "ca47441c-5ea0-453b-a403-bd611b8f884d"
      },
      "execution_count": null,
      "outputs": [
        {
          "output_type": "stream",
          "name": "stdout",
          "text": [
            "===> Finding 15 nearest neighbors in existing embedding using Annoy approximate search...\n",
            "   --> Time elapsed: 0.58 seconds\n",
            "===> Calculating affinity matrix...\n",
            "   --> Time elapsed: 0.03 seconds\n",
            "===> Running optimization with exaggeration=1.00, lr=0.10 for 300 iterations...\n",
            "Iteration   50, KL divergence 14486.4088, 50 iterations in 0.2741 sec\n",
            "Iteration  100, KL divergence 14470.7887, 50 iterations in 0.1279 sec\n",
            "Iteration  150, KL divergence 14464.9977, 50 iterations in 0.2435 sec\n",
            "Iteration  200, KL divergence 14461.7358, 50 iterations in 0.2226 sec\n",
            "Iteration  250, KL divergence 14459.7425, 50 iterations in 0.3239 sec\n",
            "Iteration  300, KL divergence 14458.3350, 50 iterations in 0.2323 sec\n",
            "   --> Time elapsed: 1.44 seconds\n"
          ]
        }
      ]
    },
    {
      "cell_type": "code",
      "execution_count": null,
      "metadata": {
        "id": "imGigMM9REr1"
      },
      "outputs": [],
      "source": [
        "df_final = pd.concat([dff0, dff1, dff2, dff3, dff4, dff5, dff6, dff7, dff8, dff9, dff10, dff11],axis=0)\n",
        "\n",
        "df_final.sort_values(by=\"min\",ascending=True,inplace=True)"
      ]
    },
    {
      "cell_type": "code",
      "execution_count": null,
      "metadata": {
        "colab": {
          "base_uri": "https://localhost:8080/",
          "height": 283
        },
        "id": "ZMzTRg8tR8rV",
        "outputId": "417a0d79-11a3-4f47-b5a6-1266833f3f83"
      },
      "outputs": [
        {
          "output_type": "execute_result",
          "data": {
            "text/plain": [
              "<matplotlib.collections.PathCollection at 0x7f5ef5438850>"
            ]
          },
          "metadata": {},
          "execution_count": 37
        },
        {
          "output_type": "display_data",
          "data": {
            "text/plain": [
              "<Figure size 432x288 with 1 Axes>"
            ],
            "image/png": "[encoded data removed]"
          },
          "metadata": {
            "needs_background": "light"
          }
        }
      ],
      "source": [
        "y_km = km.fit_predict(df_final[['comp_1','comp_2']])\n",
        "plt.scatter(df_final['comp_1'], df_final['comp_2'], c=y_km, s=50, cmap=plt.cm.Paired, alpha=0.2)\n",
        "plt.scatter(km.cluster_centers_[:, 0],km.cluster_centers_[:, 1], \n",
        "        s=250, marker='*', label='centroids',\n",
        "        edgecolor='black',\n",
        "       c=np.arange(0,10),cmap=plt.cm.Paired,)"
      ]
    },
    {
      "cell_type": "markdown",
      "source": [
        "# **Interactive visualization**"
      ],
      "metadata": {
        "id": "pdnjxxSObvIV"
      }
    },
    {
      "cell_type": "code",
      "execution_count": null,
      "metadata": {
        "id": "YztEYkPTStLd"
      },
      "outputs": [],
      "source": [
        "properties=['None', 'DNS Failure Latency (msec)', 'DNS Success Latency (msec)', 'Internet Latency (msec)', 'Round Trip Time (msec)', 'HTTP Latency (msec)', 'DL Data Volume (MB)', 'UL Data Volume (MB)']\n",
        "\n",
        "def f(Features, Time):\n",
        "    dff = df_final[df_final[\"min\"]==Time]\n",
        "    y_km = km.fit_predict(dff[['comp_1','comp_2']])\n",
        "\n",
        "    if Features == 'None':\n",
        "        fig, ax = plt.subplots(figsize=(20, 16))\n",
        "        plt.scatter(dff['comp_1'], dff['comp_2'], c=y_km ,s=50, cmap=plt.cm.Paired, alpha=0.7)\n",
        "        plt.scatter(km.cluster_centers_[:, 0], km.cluster_centers_[:, 1],s=250, marker='*', label='centroids', edgecolor='black', c=np.arange(0,10), cmap=plt.cm.Paired,)\n",
        "        fig.show()\n",
        "    else:\n",
        "        fig, ax = plt.subplots(figsize=(20, 16))\n",
        "        sc=plt.scatter(dff['comp_1'], dff['comp_2'], c=dff[Features] ,s=50, cmap='Wistia', alpha=1)\n",
        "        ax.legend(*sc.legend_elements(), title='clusters')\n",
        "        plt.scatter(km.cluster_centers_[:, 0], km.cluster_centers_[:, 1], s=250, marker='*', label='centroids', edgecolor='black', c=np.arange(0,10), cmap=plt.cm.Paired,) \n",
        "        fig.show()"
      ]
    },
    {
      "cell_type": "code",
      "execution_count": null,
      "metadata": {
        "id": "c86j6hszScGg",
        "colab": {
          "base_uri": "https://localhost:8080/",
          "height": 802,
          "referenced_widgets": [
            "97f4b013bfa3419ab00c4a1980382f60",
            "cfea911914f445b4b0309bffe950ad98",
            "9b40fabf3fbd4fd383b3bbe76b3bcfe7",
            "b9c19134f5c14fd5af7ce75b3bb87e6b",
            "1ecf60c0215e41818ad5e0385a5f69fb",
            "0552057bd9254772ac1c2e4350413465",
            "5adf06cc03e9422e92e9cac269b00aa2",
            "1de256135d6a4bae9b3467618a67c3c8",
            "11c9edf7a0ff4fd3beec427ec96a6feb",
            "301cb98c550e451b8b11f55c786366f0"
          ]
        },
        "outputId": "17110343-c104-47e7-f820-560329522728"
      },
      "outputs": [
        {
          "output_type": "display_data",
          "data": {
            "text/plain": [
              "interactive(children=(Dropdown(description='Features', options=('None', 'DNS Failure Latency (msec)', 'DNS Suc…"
            ],
            "application/vnd.jupyter.widget-view+json": {
              "version_major": 2,
              "version_minor": 0,
              "model_id": "97f4b013bfa3419ab00c4a1980382f60"
            }
          },
          "metadata": {}
        },
        {
          "output_type": "execute_result",
          "data": {
            "text/plain": [
              "<function __main__.f(Features, Time)>"
            ]
          },
          "metadata": {},
          "execution_count": 46
        }
      ],
      "source": [
        "a = widgets.IntSlider(min=0, max=55, step=5, value=0)\n",
        "\n",
        "interact(f, Features = properties, Time = a)"
      ]
    }
  ],
  "metadata": {
    "colab": {
      "provenance": []
    },
    "gpuClass": "standard",
    "kernelspec": {
      "display_name": "Python 3",
      "name": "python3"
    },
    "language_info": {
      "name": "python"
    },
    "widgets": {
      "application/vnd.jupyter.widget-state+json": {
        "97f4b013bfa3419ab00c4a1980382f60": {
          "model_module": "@jupyter-widgets/controls",
          "model_name": "VBoxModel",
          "model_module_version": "1.5.0",
          "state": {
            "_dom_classes": [
              "widget-interact"
            ],
            "_model_module": "@jupyter-widgets/controls",
            "_model_module_version": "1.5.0",
            "_model_name": "VBoxModel",
            "_view_count": null,
            "_view_module": "@jupyter-widgets/controls",
            "_view_module_version": "1.5.0",
            "_view_name": "VBoxView",
            "box_style": "",
            "children": [
              "IPY_MODEL_cfea911914f445b4b0309bffe950ad98",
              "IPY_MODEL_9b40fabf3fbd4fd383b3bbe76b3bcfe7",
              "IPY_MODEL_b9c19134f5c14fd5af7ce75b3bb87e6b"
            ],
            "layout": "IPY_MODEL_1ecf60c0215e41818ad5e0385a5f69fb"
          }
        },
        "cfea911914f445b4b0309bffe950ad98": {
          "model_module": "@jupyter-widgets/controls",
          "model_name": "DropdownModel",
          "model_module_version": "1.5.0",
          "state": {
            "_dom_classes": [],
            "_model_module": "@jupyter-widgets/controls",
            "_model_module_version": "1.5.0",
            "_model_name": "DropdownModel",
            "_options_labels": [
              "None",
              "DNS Failure Latency (msec)",
              "DNS Success Latency (msec)",
              "Internet Latency (msec)",
              "Round Trip Time (msec)",
              "HTTP Latency (msec)",
              "DL Data Volume (MB)",
              "UL Data Volume (MB)"
            ],
            "_view_count": null,
            "_view_module": "@jupyter-widgets/controls",
            "_view_module_version": "1.5.0",
            "_view_name": "DropdownView",
            "description": "Features",
            "description_tooltip": null,
            "disabled": false,
            "index": 0,
            "layout": "IPY_MODEL_0552057bd9254772ac1c2e4350413465",
            "style": "IPY_MODEL_5adf06cc03e9422e92e9cac269b00aa2"
          }
        },
        "9b40fabf3fbd4fd383b3bbe76b3bcfe7": {
          "model_module": "@jupyter-widgets/controls",
          "model_name": "IntSliderModel",
          "model_module_version": "1.5.0",
          "state": {
            "_dom_classes": [],
            "_model_module": "@jupyter-widgets/controls",
            "_model_module_version": "1.5.0",
            "_model_name": "IntSliderModel",
            "_view_count": null,
            "_view_module": "@jupyter-widgets/controls",
            "_view_module_version": "1.5.0",
            "_view_name": "IntSliderView",
            "continuous_update": true,
            "description": "Time",
            "description_tooltip": null,
            "disabled": false,
            "layout": "IPY_MODEL_1de256135d6a4bae9b3467618a67c3c8",
            "max": 55,
            "min": 0,
            "orientation": "horizontal",
            "readout": true,
            "readout_format": "d",
            "step": 5,
            "style": "IPY_MODEL_11c9edf7a0ff4fd3beec427ec96a6feb",
            "value": 30
          }
        },
        "b9c19134f5c14fd5af7ce75b3bb87e6b": {
          "model_module": "@jupyter-widgets/output",
          "model_name": "OutputModel",
          "model_module_version": "1.0.0",
          "state": {
            "_dom_classes": [],
            "_model_module": "@jupyter-widgets/output",
            "_model_module_version": "1.0.0",
            "_model_name": "OutputModel",
            "_view_count": null,
            "_view_module": "@jupyter-widgets/output",
            "_view_module_version": "1.0.0",
            "_view_name": "OutputView",
            "layout": "IPY_MODEL_301cb98c550e451b8b11f55c786366f0",
            "msg_id": "",
            "outputs": [
              {
                "output_type": "display_data",
                "data": {
                  "text/plain": "<Figure size 1440x1152 with 1 Axes>",
                  "image/png": "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\n"
                },
                "metadata": {
                  "needs_background": "light"
                }
              }
            ]
          }
        },
        "1ecf60c0215e41818ad5e0385a5f69fb": {
          "model_module": "@jupyter-widgets/base",
          "model_name": "LayoutModel",
          "model_module_version": "1.2.0",
          "state": {
            "_model_module": "@jupyter-widgets/base",
            "_model_module_version": "1.2.0",
            "_model_name": "LayoutModel",
            "_view_count": null,
            "_view_module": "@jupyter-widgets/base",
            "_view_module_version": "1.2.0",
            "_view_name": "LayoutView",
            "align_content": null,
            "align_items": null,
            "align_self": null,
            "border": null,
            "bottom": null,
            "display": null,
            "flex": null,
            "flex_flow": null,
            "grid_area": null,
            "grid_auto_columns": null,
            "grid_auto_flow": null,
            "grid_auto_rows": null,
            "grid_column": null,
            "grid_gap": null,
            "grid_row": null,
            "grid_template_areas": null,
            "grid_template_columns": null,
            "grid_template_rows": null,
            "height": null,
            "justify_content": null,
            "justify_items": null,
            "left": null,
            "margin": null,
            "max_height": null,
            "max_width": null,
            "min_height": null,
            "min_width": null,
            "object_fit": null,
            "object_position": null,
            "order": null,
            "overflow": null,
            "overflow_x": null,
            "overflow_y": null,
            "padding": null,
            "right": null,
            "top": null,
            "visibility": null,
            "width": null
          }
        },
        "0552057bd9254772ac1c2e4350413465": {
          "model_module": "@jupyter-widgets/base",
          "model_name": "LayoutModel",
          "model_module_version": "1.2.0",
          "state": {
            "_model_module": "@jupyter-widgets/base",
            "_model_module_version": "1.2.0",
            "_model_name": "LayoutModel",
            "_view_count": null,
            "_view_module": "@jupyter-widgets/base",
            "_view_module_version": "1.2.0",
            "_view_name": "LayoutView",
            "align_content": null,
            "align_items": null,
            "align_self": null,
            "border": null,
            "bottom": null,
            "display": null,
            "flex": null,
            "flex_flow": null,
            "grid_area": null,
            "grid_auto_columns": null,
            "grid_auto_flow": null,
            "grid_auto_rows": null,
            "grid_column": null,
            "grid_gap": null,
            "grid_row": null,
            "grid_template_areas": null,
            "grid_template_columns": null,
            "grid_template_rows": null,
            "height": null,
            "justify_content": null,
            "justify_items": null,
            "left": null,
            "margin": null,
            "max_height": null,
            "max_width": null,
            "min_height": null,
            "min_width": null,
            "object_fit": null,
            "object_position": null,
            "order": null,
            "overflow": null,
            "overflow_x": null,
            "overflow_y": null,
            "padding": null,
            "right": null,
            "top": null,
            "visibility": null,
            "width": null
          }
        },
        "5adf06cc03e9422e92e9cac269b00aa2": {
          "model_module": "@jupyter-widgets/controls",
          "model_name": "DescriptionStyleModel",
          "model_module_version": "1.5.0",
          "state": {
            "_model_module": "@jupyter-widgets/controls",
            "_model_module_version": "1.5.0",
            "_model_name": "DescriptionStyleModel",
            "_view_count": null,
            "_view_module": "@jupyter-widgets/base",
            "_view_module_version": "1.2.0",
            "_view_name": "StyleView",
            "description_width": ""
          }
        },
        "1de256135d6a4bae9b3467618a67c3c8": {
          "model_module": "@jupyter-widgets/base",
          "model_name": "LayoutModel",
          "model_module_version": "1.2.0",
          "state": {
            "_model_module": "@jupyter-widgets/base",
            "_model_module_version": "1.2.0",
            "_model_name": "LayoutModel",
            "_view_count": null,
            "_view_module": "@jupyter-widgets/base",
            "_view_module_version": "1.2.0",
            "_view_name": "LayoutView",
            "align_content": null,
            "align_items": null,
            "align_self": null,
            "border": null,
            "bottom": null,
            "display": null,
            "flex": null,
            "flex_flow": null,
            "grid_area": null,
            "grid_auto_columns": null,
            "grid_auto_flow": null,
            "grid_auto_rows": null,
            "grid_column": null,
            "grid_gap": null,
            "grid_row": null,
            "grid_template_areas": null,
            "grid_template_columns": null,
            "grid_template_rows": null,
            "height": null,
            "justify_content": null,
            "justify_items": null,
            "left": null,
            "margin": null,
            "max_height": null,
            "max_width": null,
            "min_height": null,
            "min_width": null,
            "object_fit": null,
            "object_position": null,
            "order": null,
            "overflow": null,
            "overflow_x": null,
            "overflow_y": null,
            "padding": null,
            "right": null,
            "top": null,
            "visibility": null,
            "width": null
          }
        },
        "11c9edf7a0ff4fd3beec427ec96a6feb": {
          "model_module": "@jupyter-widgets/controls",
          "model_name": "SliderStyleModel",
          "model_module_version": "1.5.0",
          "state": {
            "_model_module": "@jupyter-widgets/controls",
            "_model_module_version": "1.5.0",
            "_model_name": "SliderStyleModel",
            "_view_count": null,
            "_view_module": "@jupyter-widgets/base",
            "_view_module_version": "1.2.0",
            "_view_name": "StyleView",
            "description_width": "",
            "handle_color": null
          }
        },
        "301cb98c550e451b8b11f55c786366f0": {
          "model_module": "@jupyter-widgets/base",
          "model_name": "LayoutModel",
          "model_module_version": "1.2.0",
          "state": {
            "_model_module": "@jupyter-widgets/base",
            "_model_module_version": "1.2.0",
            "_model_name": "LayoutModel",
            "_view_count": null,
            "_view_module": "@jupyter-widgets/base",
            "_view_module_version": "1.2.0",
            "_view_name": "LayoutView",
            "align_content": null,
            "align_items": null,
            "align_self": null,
            "border": null,
            "bottom": null,
            "display": null,
            "flex": null,
            "flex_flow": null,
            "grid_area": null,
            "grid_auto_columns": null,
            "grid_auto_flow": null,
            "grid_auto_rows": null,
            "grid_column": null,
            "grid_gap": null,
            "grid_row": null,
            "grid_template_areas": null,
            "grid_template_columns": null,
            "grid_template_rows": null,
            "height": null,
            "justify_content": null,
            "justify_items": null,
            "left": null,
            "margin": null,
            "max_height": null,
            "max_width": null,
            "min_height": null,
            "min_width": null,
            "object_fit": null,
            "object_position": null,
            "order": null,
            "overflow": null,
            "overflow_x": null,
            "overflow_y": null,
            "padding": null,
            "right": null,
            "top": null,
            "visibility": null,
            "width": null
          }
        }
      }
    }
  },
  "nbformat": 4,
  "nbformat_minor": 0
}